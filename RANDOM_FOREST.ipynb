{
 "cells": [
  {
   "cell_type": "code",
   "execution_count": 117,
   "id": "b29cfd33",
   "metadata": {},
   "outputs": [],
   "source": [
    "# library\n",
    "import math\n",
    "import nltk\n",
    "import random\n",
    "import numpy as np\n",
    "import pandas as pd\n",
    "import seaborn as sns\n",
    "import time\n",
    "from sklearn.model_selection import cross_val_score\n",
    "from sklearn import metrics\n",
    "from sklearn.utils import resample\n",
    "from nltk.corpus import stopwords\n",
    "from matplotlib import pyplot as plt\n",
    "from sklearn.model_selection import train_test_split\n",
    "from sklearn.feature_extraction.text import CountVectorizer\n",
    "from sklearn.feature_extraction.text import TfidfVectorizer\n",
    "from sklearn.ensemble import RandomForestClassifier \n",
    "from sklearn.metrics import accuracy_score, confusion_matrix, classification_report"
   ]
  },
  {
   "cell_type": "code",
   "execution_count": 61,
   "id": "fec2c547",
   "metadata": {},
   "outputs": [
    {
     "name": "stdout",
     "output_type": "stream",
     "text": [
      "Requirement already satisfied: nltk in c:\\programdata\\anaconda3\\lib\\site-packages (3.7)Note: you may need to restart the kernel to use updated packages.\n",
      "\n",
      "Requirement already satisfied: joblib in c:\\programdata\\anaconda3\\lib\\site-packages (from nltk) (1.1.0)\n",
      "Requirement already satisfied: regex>=2021.8.3 in c:\\programdata\\anaconda3\\lib\\site-packages (from nltk) (2022.3.15)\n",
      "Requirement already satisfied: click in c:\\programdata\\anaconda3\\lib\\site-packages (from nltk) (8.0.4)\n",
      "Requirement already satisfied: tqdm in c:\\programdata\\anaconda3\\lib\\site-packages (from nltk) (4.64.0)\n",
      "Requirement already satisfied: colorama in c:\\programdata\\anaconda3\\lib\\site-packages (from click->nltk) (0.4.4)\n"
     ]
    }
   ],
   "source": [
    "pip install nltk"
   ]
  },
  {
   "cell_type": "code",
   "execution_count": 45,
   "id": "27eac2a4",
   "metadata": {},
   "outputs": [],
   "source": [
    "# load cleaned data\n",
    "data = pd.read_pickle(\"D:/Northeastern/Northeastern_CS6220/Final/cleaned.pkl\")"
   ]
  },
  {
   "cell_type": "code",
   "execution_count": 46,
   "id": "e1b33f3b",
   "metadata": {},
   "outputs": [
    {
     "data": {
      "text/html": [
       "<div>\n",
       "<style scoped>\n",
       "    .dataframe tbody tr th:only-of-type {\n",
       "        vertical-align: middle;\n",
       "    }\n",
       "\n",
       "    .dataframe tbody tr th {\n",
       "        vertical-align: top;\n",
       "    }\n",
       "\n",
       "    .dataframe thead th {\n",
       "        text-align: right;\n",
       "    }\n",
       "</style>\n",
       "<table border=\"1\" class=\"dataframe\">\n",
       "  <thead>\n",
       "    <tr style=\"text-align: right;\">\n",
       "      <th></th>\n",
       "      <th>company_profile</th>\n",
       "      <th>description</th>\n",
       "      <th>requirements</th>\n",
       "      <th>benefits</th>\n",
       "      <th>fraudulent</th>\n",
       "    </tr>\n",
       "  </thead>\n",
       "  <tbody>\n",
       "    <tr>\n",
       "      <th>0</th>\n",
       "      <td>food52 weve created groundbreaking awardwinnin...</td>\n",
       "      <td>food52 fastgrowing james beard awardwinning on...</td>\n",
       "      <td>experience content management systems major pl...</td>\n",
       "      <td>experience content management systems major pl...</td>\n",
       "      <td>0</td>\n",
       "    </tr>\n",
       "    <tr>\n",
       "      <th>1</th>\n",
       "      <td>90 seconds worlds cloud video production servi...</td>\n",
       "      <td>organised focused vibrant awesomedo passion cu...</td>\n",
       "      <td>expect key responsibility communicate client 9...</td>\n",
       "      <td>expect key responsibility communicate client 9...</td>\n",
       "      <td>0</td>\n",
       "    </tr>\n",
       "    <tr>\n",
       "      <th>2</th>\n",
       "      <td>valor services provides workforce solutions me...</td>\n",
       "      <td>client located houston actively seeking experi...</td>\n",
       "      <td>implement precommissioning commissioning proce...</td>\n",
       "      <td>implement precommissioning commissioning proce...</td>\n",
       "      <td>0</td>\n",
       "    </tr>\n",
       "    <tr>\n",
       "      <th>3</th>\n",
       "      <td>passion improving quality life geography heart...</td>\n",
       "      <td>company esri environmental systems research in...</td>\n",
       "      <td>education bachelors masters gis business admin...</td>\n",
       "      <td>education bachelors masters gis business admin...</td>\n",
       "      <td>0</td>\n",
       "    </tr>\n",
       "    <tr>\n",
       "      <th>4</th>\n",
       "      <td>spot source solutions llc global human capital...</td>\n",
       "      <td>job title itemization review manager location ...</td>\n",
       "      <td>qualifications rn license state texas diploma ...</td>\n",
       "      <td>qualifications rn license state texas diploma ...</td>\n",
       "      <td>0</td>\n",
       "    </tr>\n",
       "    <tr>\n",
       "      <th>...</th>\n",
       "      <td>...</td>\n",
       "      <td>...</td>\n",
       "      <td>...</td>\n",
       "      <td>...</td>\n",
       "      <td>...</td>\n",
       "    </tr>\n",
       "    <tr>\n",
       "      <th>17875</th>\n",
       "      <td>vend looking awesome new talent come join us y...</td>\n",
       "      <td>case first time youve visited website vend awa...</td>\n",
       "      <td>ace role eat comprehensive statements work bre...</td>\n",
       "      <td>ace role eat comprehensive statements work bre...</td>\n",
       "      <td>0</td>\n",
       "    </tr>\n",
       "    <tr>\n",
       "      <th>17876</th>\n",
       "      <td>web linc ecommerce platform services provider ...</td>\n",
       "      <td>payroll accountant focus primarily payroll fun...</td>\n",
       "      <td>ba bs accounting desire fun love genuine passi...</td>\n",
       "      <td>ba bs accounting desire fun love genuine passi...</td>\n",
       "      <td>0</td>\n",
       "    </tr>\n",
       "    <tr>\n",
       "      <th>17877</th>\n",
       "      <td>provide full time permanent positions many med...</td>\n",
       "      <td>experienced project cost control staff enginee...</td>\n",
       "      <td>least 12 years professional experienceability ...</td>\n",
       "      <td>least 12 years professional experienceability ...</td>\n",
       "      <td>0</td>\n",
       "    </tr>\n",
       "    <tr>\n",
       "      <th>17878</th>\n",
       "      <td>na</td>\n",
       "      <td>nemsia studios looking experienced visualgraph...</td>\n",
       "      <td>1 must fluent latest versions corel amp adobe ...</td>\n",
       "      <td>1 must fluent latest versions corel amp adobe ...</td>\n",
       "      <td>0</td>\n",
       "    </tr>\n",
       "    <tr>\n",
       "      <th>17879</th>\n",
       "      <td>Vend is looking for some awesome new talent to...</td>\n",
       "      <td>wevend award winning web based point sale soft...</td>\n",
       "      <td>We want to hear from you if:You have an in-dep...</td>\n",
       "      <td>NA</td>\n",
       "      <td>0</td>\n",
       "    </tr>\n",
       "  </tbody>\n",
       "</table>\n",
       "<p>17879 rows × 5 columns</p>\n",
       "</div>"
      ],
      "text/plain": [
       "                                         company_profile  \\\n",
       "0      food52 weve created groundbreaking awardwinnin...   \n",
       "1      90 seconds worlds cloud video production servi...   \n",
       "2      valor services provides workforce solutions me...   \n",
       "3      passion improving quality life geography heart...   \n",
       "4      spot source solutions llc global human capital...   \n",
       "...                                                  ...   \n",
       "17875  vend looking awesome new talent come join us y...   \n",
       "17876  web linc ecommerce platform services provider ...   \n",
       "17877  provide full time permanent positions many med...   \n",
       "17878                                                 na   \n",
       "17879  Vend is looking for some awesome new talent to...   \n",
       "\n",
       "                                             description  \\\n",
       "0      food52 fastgrowing james beard awardwinning on...   \n",
       "1      organised focused vibrant awesomedo passion cu...   \n",
       "2      client located houston actively seeking experi...   \n",
       "3      company esri environmental systems research in...   \n",
       "4      job title itemization review manager location ...   \n",
       "...                                                  ...   \n",
       "17875  case first time youve visited website vend awa...   \n",
       "17876  payroll accountant focus primarily payroll fun...   \n",
       "17877  experienced project cost control staff enginee...   \n",
       "17878  nemsia studios looking experienced visualgraph...   \n",
       "17879  wevend award winning web based point sale soft...   \n",
       "\n",
       "                                            requirements  \\\n",
       "0      experience content management systems major pl...   \n",
       "1      expect key responsibility communicate client 9...   \n",
       "2      implement precommissioning commissioning proce...   \n",
       "3      education bachelors masters gis business admin...   \n",
       "4      qualifications rn license state texas diploma ...   \n",
       "...                                                  ...   \n",
       "17875  ace role eat comprehensive statements work bre...   \n",
       "17876  ba bs accounting desire fun love genuine passi...   \n",
       "17877  least 12 years professional experienceability ...   \n",
       "17878  1 must fluent latest versions corel amp adobe ...   \n",
       "17879  We want to hear from you if:You have an in-dep...   \n",
       "\n",
       "                                                benefits  fraudulent  \n",
       "0      experience content management systems major pl...           0  \n",
       "1      expect key responsibility communicate client 9...           0  \n",
       "2      implement precommissioning commissioning proce...           0  \n",
       "3      education bachelors masters gis business admin...           0  \n",
       "4      qualifications rn license state texas diploma ...           0  \n",
       "...                                                  ...         ...  \n",
       "17875  ace role eat comprehensive statements work bre...           0  \n",
       "17876  ba bs accounting desire fun love genuine passi...           0  \n",
       "17877  least 12 years professional experienceability ...           0  \n",
       "17878  1 must fluent latest versions corel amp adobe ...           0  \n",
       "17879                                                 NA           0  \n",
       "\n",
       "[17879 rows x 5 columns]"
      ]
     },
     "execution_count": 46,
     "metadata": {},
     "output_type": "execute_result"
    }
   ],
   "source": [
    "data"
   ]
  },
  {
   "cell_type": "code",
   "execution_count": 47,
   "id": "d88fdcf9",
   "metadata": {},
   "outputs": [
    {
     "name": "stdout",
     "output_type": "stream",
     "text": [
      "         Attribute  Count\n",
      "0  company_profile   1708\n",
      "1      description  14463\n",
      "2     requirements  11748\n",
      "3         benefits  11748\n",
      "4       fraudulent      2\n"
     ]
    }
   ],
   "source": [
    "labelcountlist = []\n",
    "for x in data.columns:\n",
    "        labelcountlist.append((len(data[x].unique())))\n",
    "labelcount = pd.DataFrame({'Attribute': data.columns, 'Count': labelcountlist})\n",
    "print(labelcount)"
   ]
  },
  {
   "cell_type": "code",
   "execution_count": 93,
   "id": "30084a11",
   "metadata": {},
   "outputs": [
    {
     "name": "stdout",
     "output_type": "stream",
     "text": [
      "    Attribute  Count\n",
      "4  fraudulent      2\n",
      "\n",
      "fraudulent\n",
      "----------\n",
      "[0, 1]\n",
      "\n",
      "0    17014\n",
      "1      865\n",
      "Name: fraudulent, dtype: int64\n"
     ]
    }
   ],
   "source": [
    "#STORING ALL THOSE ATTRIBUTES WITH LESS THAN 100 LABELS\n",
    "#AlSO DISPLAYS THE COUNT OF EVERY LABEL IN EACH ATTRIBUTE\n",
    "print(labelcount[labelcount['Count'] < 100])\n",
    "count = 0\n",
    "label = []\n",
    "for x in data.columns:\n",
    "    if len(data[x].unique()) < 100:\n",
    "        print('\\n' + x + '\\n----------\\n' + str(list(data[x].unique())) + \"\\n\")\n",
    "        print(data[x].value_counts())\n",
    "        label.append(x)"
   ]
  },
  {
   "cell_type": "code",
   "execution_count": 49,
   "id": "c88f30d0",
   "metadata": {},
   "outputs": [],
   "source": [
    "data[\"full_text\"] = data[\"company_profile\"] + \" \" + data[\"description\"] + \" \" + data[\"requirements\"] + \" \" + data[\"benefits\"]"
   ]
  },
  {
   "cell_type": "code",
   "execution_count": 50,
   "id": "5885257c",
   "metadata": {},
   "outputs": [
    {
     "name": "stdout",
     "output_type": "stream",
     "text": [
      "company_profile    0\n",
      "description        0\n",
      "requirements       0\n",
      "benefits           0\n",
      "fraudulent         0\n",
      "full_text          0\n",
      "dtype: int64\n"
     ]
    }
   ],
   "source": [
    "null_all = data.isnull().sum()\n",
    "print(null_all)"
   ]
  },
  {
   "cell_type": "code",
   "execution_count": 113,
   "id": "c4285531",
   "metadata": {},
   "outputs": [],
   "source": [
    "#define the variables\n",
    "x = data['description']\n",
    "y = data['fraudulent']\n",
    "\n",
    "#split it into training and test sets\n",
    "x_train_unprocessed, x_test_unprocessed, y_train_unprocessed, y_test_unprocessed = train_test_split(x, y, test_size=0.2, random_state = 1)\n",
    "\n",
    "#vectorization\n",
    "vectorizer = TfidfVectorizer()\n",
    "vectorizer.fit(x_train_unprocessed)\n",
    "\n",
    "x_trainvec = vectorizer.transform(x_train_unprocessed)\n",
    "x_testvec = vectorizer.transform(x_test_unprocessed)\n",
    "randomforest = RandomForestClassifier()\n",
    "randomforest.fit(x_trainvec, y_train_unprocessed)\n",
    "y_pred_unprocessed = randomforest.predict(x_testvec).flatten()\n",
    "y_unprocessed =randomforest.predict(x_trainvec).flatten()"
   ]
  },
  {
   "cell_type": "code",
   "execution_count": 59,
   "id": "63f636dc",
   "metadata": {},
   "outputs": [
    {
     "name": "stdout",
     "output_type": "stream",
     "text": [
      "Accuracy = 98.27%\n"
     ]
    }
   ],
   "source": [
    "#Calculating the accuracy\n",
    "accuracy = metrics.accuracy_score(y_pred_unprocessed, y_test_unprocessed)\n",
    "print(\"Accuracy = \" + '{:.2f}%'.format(accuracy*100))"
   ]
  },
  {
   "cell_type": "code",
   "execution_count": 70,
   "id": "8725eb9a",
   "metadata": {},
   "outputs": [],
   "source": [
    "train_x = df_upsampled['full_text']\n",
    "test_x = test['full_text']\n",
    "\n",
    "train_y = df_upsampled['fraudulent']\n",
    "test_y = test['fraudulent']\n",
    "\n",
    "vectorizer = TfidfVectorizer()\n",
    "\n",
    "train_data = vectorizer.fit_transform(train_x)\n",
    "test_data = vectorizer.transform(test_x)"
   ]
  },
  {
   "cell_type": "code",
   "execution_count": 71,
   "id": "a1a49fc9",
   "metadata": {},
   "outputs": [
    {
     "data": {
      "text/plain": [
       "RandomForestClassifier()"
      ]
     },
     "execution_count": 71,
     "metadata": {},
     "output_type": "execute_result"
    }
   ],
   "source": [
    "randomforest.fit(train_data, train_y)"
   ]
  },
  {
   "cell_type": "code",
   "execution_count": 77,
   "id": "5642729a",
   "metadata": {},
   "outputs": [],
   "source": [
    "y_test = test_y.values.flatten()\n",
    "\n",
    "y_pred = randomforest.predict(test_data).flatten()"
   ]
  },
  {
   "cell_type": "code",
   "execution_count": 115,
   "id": "4bbea520",
   "metadata": {},
   "outputs": [
    {
     "name": "stdout",
     "output_type": "stream",
     "text": [
      "Accuracy = 99.99%\n"
     ]
    }
   ],
   "source": [
    "acc = metrics.accuracy_score(y_unprocessed,y_train_unprocessed)\n",
    "print(\"Accuracy = \" + '{:.2f}%'.format(acc*100))"
   ]
  },
  {
   "cell_type": "code",
   "execution_count": 78,
   "id": "23ea72a8",
   "metadata": {},
   "outputs": [
    {
     "name": "stdout",
     "output_type": "stream",
     "text": [
      "Accuracy = 98.21%\n"
     ]
    }
   ],
   "source": [
    "#Calculating the accuracy\n",
    "accuracy = metrics.accuracy_score(y_pred, y_test)\n",
    "print(\"Accuracy = \" + '{:.2f}%'.format(accuracy*100))"
   ]
  },
  {
   "cell_type": "code",
   "execution_count": 120,
   "id": "7f5be51e",
   "metadata": {},
   "outputs": [
    {
     "name": "stdout",
     "output_type": "stream",
     "text": [
      "precision = 98.21%\n"
     ]
    }
   ],
   "source": [
    "precision = metrics.precision_score(y_pred, y_test)\n",
    "print(\"precision = \" + '{:.2f}%'.format(accuracy*100))"
   ]
  },
  {
   "cell_type": "code",
   "execution_count": 85,
   "id": "d59d9c7a",
   "metadata": {},
   "outputs": [
    {
     "name": "stdout",
     "output_type": "stream",
     "text": [
      "AUC = 83.87%\n",
      "ROC_AUC = 83.87%\n"
     ]
    }
   ],
   "source": [
    "fpr, tpr, _ = metrics.roc_curve(y_test, y_pred.ravel())\n",
    "auc = metrics.roc_auc_score(y_test, y_pred, average='macro')\n",
    "roc_auc = metrics.auc(fpr, tpr)\n",
    "print (\"AUC = \" + '{:.2f}%'.format(auc*100))\n",
    "print (\"ROC_AUC = \" + '{:.2f}%'.format(roc_auc*100))"
   ]
  },
  {
   "cell_type": "code",
   "execution_count": 87,
   "id": "40867dba",
   "metadata": {},
   "outputs": [
    {
     "data": {
      "image/png": "[encoded data removed]",
      "text/plain": [
       "<Figure size 432x288 with 1 Axes>"
      ]
     },
     "metadata": {
      "needs_background": "light"
     },
     "output_type": "display_data"
    }
   ],
   "source": [
    "#create ROC curve\n",
    "plt.plot(fpr,tpr,label=\"AUC=\"+str(auc))\n",
    "plt.ylabel('True Positive Rate')\n",
    "plt.xlabel('False Positive Rate')\n",
    "plt.legend(loc=4)\n",
    "plt.show()"
   ]
  },
  {
   "cell_type": "code",
   "execution_count": null,
   "id": "66a14f6e",
   "metadata": {},
   "outputs": [],
   "source": [
    "# From the figure, it demonstrates that the value of AUC equals to 0.84, \n",
    "# which demonstrates the good fitting of the chosen model."
   ]
  }
 ],
 "metadata": {
  "kernelspec": {
   "display_name": "Python 3 (ipykernel)",
   "language": "python",
   "name": "python3"
  },
  "language_info": {
   "codemirror_mode": {
    "name": "ipython",
    "version": 3
   },
   "file_extension": ".py",
   "mimetype": "text/x-python",
   "name": "python",
   "nbconvert_exporter": "python",
   "pygments_lexer": "ipython3",
   "version": "3.9.12"
  }
 },
 "nbformat": 4,
 "nbformat_minor": 5
}
